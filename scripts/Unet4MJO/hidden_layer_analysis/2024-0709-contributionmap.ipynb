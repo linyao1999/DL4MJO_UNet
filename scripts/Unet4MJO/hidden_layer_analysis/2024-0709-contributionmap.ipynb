{
 "cells": [
  {
   "cell_type": "code",
   "execution_count": 1,
   "metadata": {},
   "outputs": [],
   "source": [
    "import os \n",
    "import sys\n",
    "\n",
    "sys.path.append('../util')\n",
    "\n",
    "import ML_MJO_util as mjo \n",
    "import contribution_util as ctr \n",
    "\n",
    "import numpy as np\n",
    "import xarray as xr \n",
    "\n",
    "import matplotlib.pyplot as plt\n",
    "\n",
    "%load_ext autoreload\n",
    "%autoreload 2"
   ]
  },
  {
   "cell_type": "markdown",
   "metadata": {},
   "source": [
    "# Preturb one channel"
   ]
  },
  {
   "cell_type": "markdown",
   "metadata": {},
   "source": [
    "### std calculated after ReLU"
   ]
  },
  {
   "cell_type": "code",
   "execution_count": null,
   "metadata": {},
   "outputs": [],
   "source": [
    "# perturb the channels and see RMSD\n",
    "lead_list = [15,]\n",
    "fn_list = np.arange(192)\n",
    "exp_list = np.arange(1,11)\n",
    "\n",
    "rmsd_list = ctr.get_rmsd_parallel(lead_list=lead_list, fn_list=fn_list, exp_num_list=exp_list, zero_channel=False, ptb_channel=True, after_relu=True)  # rmsd_list[lead, exp, channel]\n",
    "\n",
    "rmsd_ptb = np.empty((len(exp_list),len(fn_list)))\n",
    "\n",
    "for i in range(len(exp_list)):\n",
    "    for j in range(len(fn_list)):\n",
    "        rmsd_ptb[i,j] = rmsd_list[(15,exp_list[i],fn_list[j])]  # (exp, channel)\n",
    "rmsd_ptb_avg = np.mean(rmsd_ptb, axis=0)\n",
    "\n",
    "order_ptb = np.argsort(-rmsd_ptb_avg)\n",
    "rmsd_ptb_sorted = rmsd_ptb_avg[order_ptb]\n",
    "\n",
    "order_ptb_n = np.argsort(-rmsd_ptb, axis=1)\n",
    "rmsd_ptb_sorted_n = np.empty(rmsd_ptb.shape)\n",
    "for i in range(len(exp_list)):\n",
    "    rmsd_ptb_sorted_n[i,:] = rmsd_ptb[i,order_ptb_n[i,:]]"
   ]
  },
  {
   "cell_type": "code",
   "execution_count": null,
   "metadata": {},
   "outputs": [],
   "source": [
    "fig, ax = plt.subplots(1,1,figsize=(20,5))\n",
    "ax.plot(rmsd_ptb_sorted, 'o-')\n",
    "# ax.plot(rmsd_ptb_sorted_n.T, 'k-', linewidth=0.1)\n",
    "plt.xlabel('Channel')\n",
    "plt.ylabel('Averaged difference of RMM')\n",
    "plt.title('Preturb one channel (std after ReLU)')"
   ]
  },
  {
   "cell_type": "code",
   "execution_count": null,
   "metadata": {},
   "outputs": [],
   "source": [
    "print(order_ptb[:10])"
   ]
  },
  {
   "cell_type": "code",
   "execution_count": null,
   "metadata": {},
   "outputs": [],
   "source": [
    "[175, 143, 189, 166, 167, 140, 182, 191, 180, 168]"
   ]
  },
  {
   "cell_type": "code",
   "execution_count": null,
   "metadata": {},
   "outputs": [],
   "source": [
    "print(order_ptb_n[:,:10])"
   ]
  },
  {
   "cell_type": "markdown",
   "metadata": {},
   "source": [
    "### std calculated before ReLU"
   ]
  },
  {
   "cell_type": "code",
   "execution_count": null,
   "metadata": {},
   "outputs": [],
   "source": [
    "# perturb the channels and see RMSD\n",
    "lead_list = [15,]\n",
    "fn_list = np.arange(192)\n",
    "exp_list = np.arange(1,11)\n",
    "\n",
    "rmsd_list = ctr.get_rmsd_parallel(lead_list=lead_list, fn_list=fn_list, exp_num_list=exp_list, zero_channel=False, ptb_channel=True, )  # rmsd_list[lead, exp, channel]"
   ]
  },
  {
   "cell_type": "code",
   "execution_count": null,
   "metadata": {},
   "outputs": [],
   "source": [
    "rmsd_ptb = np.empty((len(exp_list),len(fn_list)))\n",
    "\n",
    "for i in range(len(exp_list)):\n",
    "    for j in range(len(fn_list)):\n",
    "        rmsd_ptb[i,j] = rmsd_list[(15,exp_list[i],fn_list[j])]  # (exp, channel)\n"
   ]
  },
  {
   "cell_type": "code",
   "execution_count": null,
   "metadata": {},
   "outputs": [],
   "source": [
    "rmsd_ptb_avg = np.mean(rmsd_ptb, axis=0)\n",
    "rmsd_ptb_avg.shape "
   ]
  },
  {
   "cell_type": "code",
   "execution_count": null,
   "metadata": {},
   "outputs": [],
   "source": [
    "order_ptb = np.argsort(-rmsd_ptb_avg)\n",
    "rmsd_ptb_sorted = rmsd_ptb_avg[order_ptb]"
   ]
  },
  {
   "cell_type": "code",
   "execution_count": null,
   "metadata": {},
   "outputs": [],
   "source": [
    "order_ptb_n = np.argsort(-rmsd_ptb, axis=1)\n",
    "rmsd_ptb_sorted_n = np.empty(rmsd_ptb.shape)\n",
    "for i in range(len(exp_list)):\n",
    "    rmsd_ptb_sorted_n[i,:] = rmsd_ptb[i,order_ptb_n[i,:]]"
   ]
  },
  {
   "cell_type": "code",
   "execution_count": null,
   "metadata": {},
   "outputs": [],
   "source": [
    "fig, ax = plt.subplots(1,1,figsize=(20,5))\n",
    "ax.plot(rmsd_ptb_sorted, 'o-')\n",
    "ax.plot(rmsd_ptb_sorted_n.T, 'k-', linewidth=0.1)\n",
    "plt.xlabel('Channel')\n",
    "plt.ylabel('Averaged difference of RMM')\n",
    "plt.title('Preturb one channel')"
   ]
  },
  {
   "cell_type": "code",
   "execution_count": null,
   "metadata": {},
   "outputs": [],
   "source": [
    "print(order_ptb[:10]) "
   ]
  },
  {
   "cell_type": "code",
   "execution_count": null,
   "metadata": {},
   "outputs": [],
   "source": [
    "print(order_ptb_n[:,:10])"
   ]
  },
  {
   "cell_type": "code",
   "execution_count": null,
   "metadata": {},
   "outputs": [],
   "source": [
    "print(order_ptb[:60])"
   ]
  },
  {
   "cell_type": "code",
   "execution_count": null,
   "metadata": {},
   "outputs": [],
   "source": [
    "lead_list = np.arange(15,20,5)\n",
    "fn_list=list(np.arange(0,192))\n",
    "rmsd_list = ctr.get_rmsd_parallel(lead_list=lead_list,fn_list=fn_list, zero_channel=True, ptb_channel=False)"
   ]
  },
  {
   "cell_type": "code",
   "execution_count": null,
   "metadata": {},
   "outputs": [],
   "source": [
    "rmsd_zero = np.empty((len(lead_list),len(fn_list)))\n",
    "\n",
    "for i in range(len(lead_list)):\n",
    "    for j in range(len(fn_list)):\n",
    "        rmsd_zero[i,j] = rmsd_list[(lead_list[i],'',fn_list[j])]\n",
    "\n"
   ]
  },
  {
   "cell_type": "code",
   "execution_count": null,
   "metadata": {},
   "outputs": [],
   "source": [
    "rmsd_zero_sorted, order_zero = ctr.resort_descending(np.squeeze(rmsd_zero))\n"
   ]
  },
  {
   "cell_type": "code",
   "execution_count": null,
   "metadata": {},
   "outputs": [],
   "source": [
    "fig, ax = plt.subplots(1,1,figsize=(20,5))\n",
    "ax.plot(rmsd_zero_sorted, 'o-')\n",
    "\n",
    "plt.xlabel('Channel')\n",
    "plt.ylabel('Averaged difference of RMM')\n",
    "plt.title('Zero one channel')"
   ]
  },
  {
   "cell_type": "code",
   "execution_count": null,
   "metadata": {},
   "outputs": [],
   "source": [
    "order_zero[:10]"
   ]
  },
  {
   "cell_type": "code",
   "execution_count": null,
   "metadata": {},
   "outputs": [],
   "source": [
    "order_zero[:80]"
   ]
  },
  {
   "cell_type": "code",
   "execution_count": null,
   "metadata": {},
   "outputs": [],
   "source": [
    "order_ptb"
   ]
  },
  {
   "cell_type": "code",
   "execution_count": null,
   "metadata": {},
   "outputs": [],
   "source": [
    "order_zero"
   ]
  },
  {
   "cell_type": "markdown",
   "metadata": {},
   "source": [
    "# Fourier transform on selected channels."
   ]
  },
  {
   "cell_type": "code",
   "execution_count": null,
   "metadata": {},
   "outputs": [],
   "source": [
    "import pickle \n",
    "lat_lim = 20\n",
    "mjo_ind = 'RMM' \n",
    "lead = 15\n",
    "m = 1\n",
    "mflg = 'off' \n",
    "wnx = 1 \n",
    "wnxflg = 'off'\n",
    "zmode = 1\n",
    "nmem = 1 \n",
    "dataflg = ''\n",
    "vn = 'olr'\n",
    "\n",
    "flag = vn+str(lat_lim)+'deg_'+mjo_ind+'_ERA5_lead'+str(lead)+'_dailyinput_m'+str(m)+mflg+'_wnx'+str(wnx)+wnxflg+'_zmode'+str(zmode)+'_nmem'+str(nmem)+dataflg\n",
    "\n",
    "with open('/pscratch/sd/l/linyaoly/ERA5/Unet4MJO/1map_MCDO_ERA5_yproj_xfft_4gpus_new/hidden_analysis/outfields'+flag+'.pickle', 'rb') as file2:\n",
    "    outfields = pickle.load(file2)\n",
    "\n",
    "\n",
    "time, batch, channel, lat, lon = np.shape(outfields['input_map'])\n",
    "feature_maps = np.reshape(outfields['input_map'], (time*batch, channel, lat, lon))\n"
   ]
  },
  {
   "cell_type": "code",
   "execution_count": null,
   "metadata": {},
   "outputs": [],
   "source": [
    "# channel_sel = np.asarray([143, 175, 166, 171, 155, 140, 134, 167, 182, 151, 189, 191, 180, 168,])\n",
    "channel_sel = order_zero[:80]\n",
    "freq, power, power_norm = ctr.get_fft_power(order=channel_sel)\n",
    "freq0, power0, power_norm0 = ctr.get_fft_power_input()"
   ]
  },
  {
   "cell_type": "code",
   "execution_count": null,
   "metadata": {},
   "outputs": [],
   "source": [
    "data_vars = {\n",
    "    'freq':(['freq'],freq),\n",
    "    'channel':(['channel'],channel_sel),\n",
    "    'power':(['channel','freq'],power),\n",
    "    'power_norm':(['channel','freq'],power_norm),\n",
    "    'power0':(['freq'],np.squeeze(power0)),\n",
    "    'power_norm0':(['freq'],np.squeeze(power_norm0))\n",
    "}"
   ]
  },
  {
   "cell_type": "code",
   "execution_count": null,
   "metadata": {},
   "outputs": [],
   "source": [
    "ds = xr.Dataset(data_vars)\n",
    "ds.to_netcdf('./scale_change/fft_hid26_rmsd_top80_zero_channel.nc')"
   ]
  },
  {
   "cell_type": "code",
   "execution_count": null,
   "metadata": {},
   "outputs": [],
   "source": [
    "# channel_sel = np.asarray([143, 175, 166, 171, 155, 140, 134, 167, 182, 151, 189, 191, 180, 168,])\n",
    "channel_sel = order_ptb[:80]\n",
    "freq, power, power_norm = ctr.get_fft_power(order=channel_sel)\n",
    "# freq0, power0, power_norm0 = ctr.get_fft_power_input()"
   ]
  },
  {
   "cell_type": "code",
   "execution_count": null,
   "metadata": {},
   "outputs": [],
   "source": [
    "data_vars = {\n",
    "    'freq':(['freq'],freq),\n",
    "    'channel':(['channel'],channel_sel),\n",
    "    'power':(['channel','freq'],power),\n",
    "    'power_norm':(['channel','freq'],power_norm),\n",
    "    'power0':(['freq'],np.squeeze(power0)),\n",
    "    'power_norm0':(['freq'],np.squeeze(power_norm0))\n",
    "}\n",
    "ds = xr.Dataset(data_vars)\n",
    "ds.to_netcdf('./scale_change/fft_hid26_rmsd_top80_ptb_channel.nc')"
   ]
  },
  {
   "cell_type": "code",
   "execution_count": 2,
   "metadata": {},
   "outputs": [],
   "source": [
    "# fn = '/global/homes/l/linyaoly/ERA5/script/Unet4MJO/hidden_layer_analysis/scale_change/fft_hid26_rmsd_20deg_zero_channel.nc'\n",
    "# fn = '/global/homes/l/linyaoly/ERA5/script/Unet4MJO/hidden_layer_analysis/scale_change/fft_hid26_rmsd_20deg_ptb_channel.nc'\n",
    "fn = '/global/homes/l/linyaoly/ERA5/script/Unet4MJO/hidden_layer_analysis/scale_change/fft_hid26_rmsd_20deg_zero_channel_beforerelu.nc'\n",
    "# fn = '/global/homes/l/linyaoly/ERA5/script/Unet4MJO/hidden_layer_analysis/scale_change/fft_hid26_rmsd_20deg_ptb_channel_beforerelu.nc'\n",
    "# fn = '/global/homes/l/linyaoly/ERA5/script/Unet4MJO/hidden_layer_analysis/scale_change/fft_hid26_rmsd_10deg_zero_channel.nc'\n",
    "# fn = '/global/homes/l/linyaoly/ERA5/script/Unet4MJO/hidden_layer_analysis/scale_change/fft_hid26_rmsd_10deg_ptb_channel.nc'\n",
    "\n",
    "ds = xr.open_dataset(fn)    \n",
    "power = ds['power'].values\n",
    "power_norm = ds['power_norm'].values\n",
    "power0 = ds['power0'].values\n",
    "power_norm0 = ds['power_norm0'].values\n",
    "freq = ds['freq'].values\n",
    "order = ds['channel'].values"
   ]
  },
  {
   "cell_type": "code",
   "execution_count": null,
   "metadata": {},
   "outputs": [],
   "source": [
    "print(order[:10])"
   ]
  },
  {
   "cell_type": "code",
   "execution_count": null,
   "metadata": {},
   "outputs": [],
   "source": [
    "kmax = 90\n",
    "plt.plot(freq[:kmax], np.log10(power_norm[:10,:kmax]).T,'r-', linewidth=0.3)\n",
    "# plt.plot(freq[:kmax], np.log10(power_norm[10:,:kmax]).T,'b-', linewidth=0.3)\n",
    "plt.plot(freq[:kmax], np.mean(np.log10(power_norm[:10, :kmax]), axis=0),'r-', linewidth=2)\n",
    "plt.plot(freq[:kmax], np.log10(power_norm0[:kmax]),'k-', linewidth=2)\n",
    "plt.xlabel('wave number')\n",
    "plt.ylabel('log10(norm power)')\n",
    "plt.text(0.95, 0.95, 'black: input', color='black', fontsize=12, transform=plt.gca().transAxes, ha='right', va='top')\n",
    "plt.text(0.95, 0.90, 'red: top 10 channels', color='red', fontsize=12, transform=plt.gca().transAxes, ha='right', va='top')\n",
    "# plt.text(0.95, 0.85, 'blue: rest channels (zeroing)', color='red', fontsize=12, transform=plt.gca().transAxes, ha='right', va='top')\n"
   ]
  },
  {
   "cell_type": "code",
   "execution_count": null,
   "metadata": {},
   "outputs": [],
   "source": [
    "# kmax = 90\n",
    "# plt.plot(freq[:kmax], np.log10(power_norm[10:55,:kmax]).T,'b-', linewidth=0.3)\n",
    "# plt.plot(freq[:kmax], np.log10(power_norm[55:80,:kmax]).T,'r-', linewidth=0.3)\n",
    "# plt.plot(freq[:kmax], np.log10(power_norm[80:,:kmax]).T,'g-', linewidth=0.3)\n",
    "plt.plot(freq[:kmax], np.mean(np.log10(power_norm[10:55,:kmax]),axis=0),'b-', linewidth=2)\n",
    "plt.plot(freq[:kmax], np.mean(np.log10(power_norm[55:80,:kmax]),axis=0),'r-', linewidth=2)\n",
    "plt.plot(freq[:kmax], np.mean(np.log10(power_norm[80:,:kmax]),axis=0),'g-', linewidth=2)\n",
    "plt.plot(freq[:kmax], np.log10(power_norm0[:kmax]),'k-', linewidth=2)\n",
    "plt.xlabel('wave number')\n",
    "plt.ylabel('log10(norm power)')\n",
    "plt.text(0.95, 0.95, 'black: input', color='black', fontsize=12, transform=plt.gca().transAxes, ha='right', va='top')\n",
    "plt.text(0.95, 0.90, 'blue: 10-55', color='blue', fontsize=12, transform=plt.gca().transAxes, ha='right', va='top')\n",
    "plt.text(0.95, 0.85, 'red: 56-80', color='red', fontsize=12, transform=plt.gca().transAxes, ha='right', va='top')\n",
    "plt.text(0.95, 0.80, 'red: rest', color='green', fontsize=12, transform=plt.gca().transAxes, ha='right', va='top')\n"
   ]
  },
  {
   "cell_type": "code",
   "execution_count": null,
   "metadata": {},
   "outputs": [],
   "source": [
    "kmax = 90\n",
    "# plt.plot(freq[:kmax], np.log10(power_norm[10:60,:kmax]).T,'b-', linewidth=0.3)\n",
    "# plt.plot(freq[:kmax], np.log10(power_norm[60:,:kmax]).T,'r-', linewidth=0.3)\n",
    "plt.plot(freq[:kmax], np.mean(np.log10(power_norm[10:60,:kmax]),axis=0),'b-', linewidth=2)\n",
    "plt.plot(freq[:kmax], np.mean(np.log10(power_norm[60:,:kmax]),axis=0),'r-', linewidth=2)\n",
    "plt.plot(freq[:kmax], np.log10(power_norm0[:kmax]),'k-', linewidth=2)\n",
    "plt.xlabel('wave number')\n",
    "plt.ylabel('log10(norm power)')\n",
    "plt.text(0.95, 0.95, 'black: input', color='black', fontsize=12, transform=plt.gca().transAxes, ha='right', va='top')\n",
    "plt.text(0.95, 0.90, 'blue: 10-60', color='blue', fontsize=12, transform=plt.gca().transAxes, ha='right', va='top')\n",
    "plt.text(0.95, 0.85, 'red: rest', color='red', fontsize=12, transform=plt.gca().transAxes, ha='right', va='top')\n"
   ]
  },
  {
   "cell_type": "code",
   "execution_count": null,
   "metadata": {},
   "outputs": [],
   "source": [
    "lat_avg = 10 \n",
    "latitude = np.arange(20,-22,-2)\n",
    "lat_ind = np.where((latitude>=-lat_avg) & (latitude<=lat_avg))[0]\n",
    "\n",
    "list(lat_ind) "
   ]
  },
  {
   "cell_type": "code",
   "execution_count": null,
   "metadata": {},
   "outputs": [],
   "source": [
    "latitude[lat_ind]"
   ]
  },
  {
   "cell_type": "code",
   "execution_count": null,
   "metadata": {},
   "outputs": [],
   "source": [
    "exp_list = np.arange(1,11)\n",
    "fn_list = np.arange(192)\n",
    "\n",
    "bcc_list, rmse_list = mjo.get_1var_skill_parallel('RMM', lead_list=[15,], exp_num_list=exp_list, fn_list=fn_list, zero_channel=False, ptb_channel=True)\n",
    "\n",
    "bcc = np.empty((len(exp_list),len(fn_list)))\n",
    "rmse = np.empty((len(exp_list),len(fn_list)))\n",
    "\n",
    "for i in range(len(exp_list)):\n",
    "    for j in range(len(fn_list)):\n",
    "        bcc[i,j] = bcc_list[(15,exp_list[i],fn_list[j])]\n",
    "        rmse[i,j] = rmse_list[(15,exp_list[i],fn_list[j])]"
   ]
  },
  {
   "cell_type": "code",
   "execution_count": null,
   "metadata": {},
   "outputs": [],
   "source": [
    "bcc_avg = np.mean(bcc, axis=0)\n",
    "plt.plot(bcc_avg)"
   ]
  },
  {
   "cell_type": "code",
   "execution_count": null,
   "metadata": {},
   "outputs": [],
   "source": [
    "order = np.argsort(-bcc_avg)\n",
    "bcc_sorted = bcc_avg[order]\n",
    "print(order[-30:])\n",
    "plt.plot(bcc_sorted[:],'o-')"
   ]
  },
  {
   "cell_type": "code",
   "execution_count": 11,
   "metadata": {},
   "outputs": [],
   "source": [
    "lead_list = np.arange(0,20,5)\n",
    "\n",
    "bcc_list, rmse_list = mjo.get_1var_skill_parallel('RMM', lead_list, exp_num_list=[''], m=1, mflg='off', wnx=1, wnxflg='off', rule='Iamp>1.0', vn='olr', dataflg='', winter=False, outputflg='', lat_range=20, zero_channel=False)\n",
    "bcc0 = np.empty((len(lead_list)))\n",
    "rmse0 = np.empty((len(lead_list)))\n",
    "\n",
    "for i in range(len(lead_list)):\n",
    "    bcc0[i] = bcc_list[(lead_list[i],'')]\n",
    "    rmse0[i] = rmse_list[(lead_list[i],'')]"
   ]
  },
  {
   "cell_type": "code",
   "execution_count": 12,
   "metadata": {},
   "outputs": [
    {
     "data": {
      "image/png": "[encoded data removed]",
      "text/plain": [
       "<Figure size 640x480 with 1 Axes>"
      ]
     },
     "metadata": {},
     "output_type": "display_data"
    }
   ],
   "source": [
    "plt.plot(lead_list, bcc0)\n",
    "plt.grid()"
   ]
  },
  {
   "cell_type": "code",
   "execution_count": 7,
   "metadata": {},
   "outputs": [],
   "source": [
    "lead_list = np.arange(0,20,5)\n",
    "fn_list=list(np.arange(0,192))\n",
    "bcc_list, rmse_list = mjo.get_1var_skill_parallel('RMM', lead_list, exp_num_list=[''], m=1, mflg='off', wnx=1, wnxflg='off', rule='Iamp>1.0', vn='olr', dataflg='', winter=False, outputflg='', lat_range=20, fn_list=fn_list)\n"
   ]
  },
  {
   "cell_type": "code",
   "execution_count": 8,
   "metadata": {},
   "outputs": [],
   "source": [
    "bcc1 = np.empty((len(lead_list), len(fn_list)))\n",
    "rmse1 = np.empty((len(lead_list), len(fn_list)))\n",
    "\n",
    "for i in range(len(lead_list)):\n",
    "    for j in range(len(fn_list)):\n",
    "        bcc1[i,j] = bcc_list[(lead_list[i],'',j)]\n",
    "        rmse1[i,j] = rmse_list[(lead_list[i],'',j)]"
   ]
  },
  {
   "cell_type": "code",
   "execution_count": 9,
   "metadata": {},
   "outputs": [
    {
     "data": {
      "image/png": "[encoded data removed]",
      "text/plain": [
       "<Figure size 640x480 with 1 Axes>"
      ]
     },
     "metadata": {},
     "output_type": "display_data"
    }
   ],
   "source": [
    "plt.plot(lead_list, bcc1)\n",
    "plt.grid()"
   ]
  },
  {
   "cell_type": "code",
   "execution_count": 4,
   "metadata": {},
   "outputs": [
    {
     "data": {
      "image/png": "[encoded data removed]",
      "text/plain": [
       "<Figure size 640x480 with 1 Axes>"
      ]
     },
     "metadata": {},
     "output_type": "display_data"
    }
   ],
   "source": [
    "plt.plot(lead_list, bcc1)\n",
    "plt.grid()"
   ]
  },
  {
   "cell_type": "code",
   "execution_count": null,
   "metadata": {},
   "outputs": [],
   "source": [
    "lead_list = np.arange(0,30,5)\n",
    "fn_list=None\n",
    "zero_channel = True\n",
    "bcc_list, rmse_list = mjo.get_1var_skill_parallel('RMM', lead_list, exp_num_list=[''], m=1, mflg='off', wnx=1, wnxflg='off', rule='Iamp>1.0', vn='olr', dataflg='', winter=False, outputflg='', lat_range=20, fn_list=fn_list, zero_channel=zero_channel)\n"
   ]
  },
  {
   "cell_type": "code",
   "execution_count": null,
   "metadata": {},
   "outputs": [],
   "source": [
    "bcc1 = np.empty((len(lead_list), 1))\n",
    "rmse1 = np.empty((len(lead_list), 1))\n",
    "\n",
    "for i in range(len(lead_list)):\n",
    "    bcc1[i] = bcc_list[(lead_list[i],'')]\n",
    "    rmse1[i] = rmse_list[(lead_list[i],'')]\n",
    "\n",
    "plt.plot(lead_list, bcc1)\n",
    "plt.grid()"
   ]
  },
  {
   "cell_type": "code",
   "execution_count": 13,
   "metadata": {},
   "outputs": [],
   "source": [
    "# str(channel[0]) + '_' + str(channel[-1])\n",
    "lead_list = np.arange(0,35,5)\n",
    "fn_list=[\"0_127\"]\n",
    "bcc2 = np.empty(len(lead_list))\n",
    "rmse2 = np.empty(len(lead_list))\n",
    "bcc_list, rmse_list = mjo.get_1var_skill_parallel('RMM', lead_list, exp_num_list=[''], m=1, mflg='off', wnx=1, wnxflg='off', rule='Iamp>1.0', vn='olr', dataflg='', winter=False, outputflg='', lat_range=20, fn_list=fn_list)\n",
    "for i in range(len(lead_list)):\n",
    "    bcc2[i] = bcc_list[(lead_list[i],'',fn_list[0])]\n",
    "    rmse2[i] = rmse_list[(lead_list[i],'',fn_list[0])]"
   ]
  },
  {
   "cell_type": "code",
   "execution_count": 14,
   "metadata": {},
   "outputs": [],
   "source": [
    "# str(channel[0]) + '_' + str(channel[-1])\n",
    "lead_list = np.arange(0,35,5)\n",
    "fn_list=[\"128_191\"]\n",
    "bcc = np.empty(len(lead_list))\n",
    "rmse = np.empty(len(lead_list))\n",
    "bcc_list, rmse_list = mjo.get_1var_skill_parallel('RMM', lead_list, exp_num_list=[''], m=1, mflg='off', wnx=1, wnxflg='off', rule='Iamp>1.0', vn='olr', dataflg='', winter=False, outputflg='', lat_range=20, fn_list=fn_list)\n",
    "for i in range(len(lead_list)):\n",
    "    bcc[i] = bcc_list[(lead_list[i],'',fn_list[0])]\n",
    "    rmse[i] = rmse_list[(lead_list[i],'',fn_list[0])]"
   ]
  },
  {
   "cell_type": "code",
   "execution_count": null,
   "metadata": {},
   "outputs": [],
   "source": [
    "bcc0, rmse0 = mjo.get_1var_skill_parallel('RMM', lead_list, exp_num_list=[''], m=1, mflg='off', wnx=1, wnxflg='off', rule='Iamp>1.0', vn='olr', dataflg='', winter=False, outputflg='', lat_range=20)\n"
   ]
  },
  {
   "cell_type": "code",
   "execution_count": null,
   "metadata": {},
   "outputs": [],
   "source": [
    "bccref = np.empty((len(lead_list), 1))\n",
    "rmseref = np.empty((len(lead_list), 1))\n",
    "\n",
    "for i in range(len(lead_list)):\n",
    "    bccref[i,0] = bcc0[(lead_list[i],'')]\n",
    "    rmseref[i,0] = rmse0[(lead_list[i],'')]\n"
   ]
  },
  {
   "cell_type": "code",
   "execution_count": null,
   "metadata": {},
   "outputs": [],
   "source": [
    "dbcc = np.squeeze(bcc - bccref)  # (lead,channel)\n",
    "drmse = np.squeeze(rmse - rmseref)"
   ]
  },
  {
   "cell_type": "code",
   "execution_count": null,
   "metadata": {},
   "outputs": [],
   "source": [
    "dbcc[-1,:].mean()"
   ]
  },
  {
   "cell_type": "code",
   "execution_count": null,
   "metadata": {},
   "outputs": [],
   "source": [
    "def plot_uncertainty_all(ax, x, y, ydis, thred, xlab=None, ylab=None, label=None, title=None, line_c='tab:blue',alpha=1.0, xlim=[0,30], ylim=[0.3,1.0], ftsize = 26, gap=0.1, style='-', alpha_fill=0.5):\n",
    "    plt.rcParams.update({'font.size': ftsize})\n",
    "    ax.plot(x, y, linestyle=style, linewidth=2.5, label=label, color=line_c, alpha=alpha)\n",
    "    ax.fill_between(x, np.min(ydis, axis=1), np.max(ydis, axis=1), alpha=alpha_fill, color=line_c)\n",
    "    # ax.plot(x, np.ones(len(x))*thred, 'k--', linewidth=2)\n",
    "    ax.set_xlabel(xlab)\n",
    "    ax.set_ylabel(ylab)\n",
    "    ax.set_ylim(ylim)\n",
    "    ax.set_xlim(xlim)\n",
    "    ax.set_xticks(np.arange(0, 31, 5))\n",
    "    ax.set_yticks(np.arange(ylim[0], ylim[1]+0.1, gap))\n",
    "    # ax.set_xtick(np.arange(0, 31, 5))\n",
    "    if title is not None:\n",
    "        ax.set_title(title, pad=20)\n",
    "    ax.grid(visible=True)"
   ]
  },
  {
   "cell_type": "code",
   "execution_count": null,
   "metadata": {},
   "outputs": [],
   "source": [
    "fig, ax = plt.subplots(1,1, figsize=(8.5,6.5))\n",
    "\n",
    "lead_list = [0, 5, 10, 15, 20, 25, 30]\n",
    "skill_avg = bccref\n",
    "plot_uncertainty_all(ax, lead_list, skill_avg, bccref, 0.5, None, None, '19 var', line_c='tab:blue', alpha_fill=0.4)\n"
   ]
  },
  {
   "cell_type": "code",
   "execution_count": 26,
   "metadata": {},
   "outputs": [
    {
     "data": {
      "image/png": "[encoded data removed]",
      "text/plain": [
       "<Figure size 640x480 with 1 Axes>"
      ]
     },
     "metadata": {},
     "output_type": "display_data"
    }
   ],
   "source": [
    "plt.plot(np.arange(0, np.shape(bcc)[0]*5,5), bcc, label='zero out L2')\n",
    "plt.plot(np.arange(0, np.shape(bcc2)[0]*5,5),bcc2, label='zerou out L6')\n",
    "plt.plot(np.arange(0, np.shape(bcc1)[0]*5,5),bcc1)\n",
    "plt.plot(np.arange(0, np.shape(bcc0)[0]*5,5),bcc0, 'k', label='referece')\n",
    "plt.plot([0,30],[0.5,0.5],'k--')\n",
    "plt.ylabel('BCC')\n",
    "plt.xlabel('Lead')\n",
    "plt.legend()\n",
    "plt.grid()"
   ]
  },
  {
   "cell_type": "code",
   "execution_count": null,
   "metadata": {},
   "outputs": [],
   "source": [
    "sorted_dbcc_ind = np.argsort(-dbcc)\n",
    "sorted_drmse_ind = np.argsort(-drmse)\n",
    "\n",
    "sorted_dbcc = dbcc[sorted_dbcc_ind]\n",
    "sorted_drmse = drmse[sorted_drmse_ind]"
   ]
  },
  {
   "cell_type": "code",
   "execution_count": null,
   "metadata": {},
   "outputs": [],
   "source": [
    "plt.plot(bcc[:,0], bcc0)"
   ]
  },
  {
   "cell_type": "code",
   "execution_count": null,
   "metadata": {},
   "outputs": [],
   "source": [
    "plt.plot(sorted_dbcc, label='BCC')"
   ]
  },
  {
   "cell_type": "code",
   "execution_count": null,
   "metadata": {},
   "outputs": [],
   "source": [
    "plt.plot(sorted_drmse, label='RMSE')"
   ]
  },
  {
   "cell_type": "code",
   "execution_count": null,
   "metadata": {},
   "outputs": [],
   "source": [
    "print(sorted_dbcc_ind[:30])"
   ]
  },
  {
   "cell_type": "code",
   "execution_count": null,
   "metadata": {},
   "outputs": [],
   "source": [
    "print(sorted_drmse_ind[:30])"
   ]
  },
  {
   "cell_type": "code",
   "execution_count": null,
   "metadata": {},
   "outputs": [],
   "source": [
    "import matplotlib.colors as colors\n",
    "import pickle\n",
    "\n",
    "# Load the dictionary from the file\n",
    "vn = 'olr'\n",
    "lat_lim = 20\n",
    "mjo_ind = 'RMM' \n",
    "leadmjo = 15\n",
    "m=1\n",
    "mflg = 'off' \n",
    "wnx = 1\n",
    "wnxflg = 'off'\n",
    "zmode = 1\n",
    "nmem = 1\n",
    "dataflg = '' \n",
    "flag = vn+str(lat_lim)+'deg_'+mjo_ind+'_ERA5_lead'+str(leadmjo)+'_dailyinput_m'+str(m)+mflg+'_wnx'+str(wnx)+wnxflg+'_zmode'+str(zmode)+'_nmem'+str(nmem)+dataflg\n",
    "\n",
    "with open('/pscratch/sd/l/linyaoly/ERA5/Unet4MJO/1map_MCDO_ERA5_yproj_xfft_4gpus_new/hidden_analysis/outfields'+vn+str(lat_lim)+'deg_'+mjo_ind+'_ERA5_lead'+str(leadmjo)+'_dailyinput_m'+str(m)+mflg+'_wnx'+str(wnx)+wnxflg+'_zmode'+str(zmode)+'_nmem'+str(nmem)+'.pickle', 'rb') as file2:\n",
    "    outfields = pickle.load(file2)\n"
   ]
  },
  {
   "cell_type": "code",
   "execution_count": null,
   "metadata": {},
   "outputs": [],
   "source": [
    "# extract the L2+L6 fields\n",
    "hid26 = np.concatenate((np.reshape(np.asarray(outfields['hidden5']), (-1, 128, 21, 180)), np.reshape(np.asarray(outfields['hidden1']), (-1, 64, 21, 180))), axis=1)\n",
    "hid26.shape "
   ]
  },
  {
   "cell_type": "code",
   "execution_count": null,
   "metadata": {},
   "outputs": [],
   "source": [
    "# look at the distribution of the most influential channel 175\n",
    "h175 = np.squeeze(hid26[:,175,:,:])\n",
    "# show density distribution for each grid \n",
    "# density probability of each grid; not hist\n",
    "import seaborn as sns\n",
    "for i in np.arange(21):\n",
    "    for j in np.arange(180):\n",
    "        sns.kdeplot(h175[:,i,j], color='b', linewidth=0.1)"
   ]
  },
  {
   "cell_type": "code",
   "execution_count": null,
   "metadata": {},
   "outputs": [],
   "source": [
    "# calculate the mean value and the standard deviation at each grid point for each channel\n",
    "\n",
    "mean_hid26 = np.mean(hid26, axis=0)\n",
    "std_hid26 = np.std(hid26, axis=0)\n"
   ]
  },
  {
   "cell_type": "code",
   "execution_count": null,
   "metadata": {},
   "outputs": [],
   "source": [
    "# store std_hid26 using pickle\n",
    "with open('/pscratch/sd/l/linyaoly/ERA5/Unet4MJO/1map_MCDO_ERA5_yproj_xfft_4gpus_new/hidden_analysis/std_hid26'+vn+str(lat_lim)+'deg_'+mjo_ind+'_ERA5_lead'+str(leadmjo)+'_dailyinput_m'+str(m)+mflg+'_wnx'+str(wnx)+wnxflg+'_zmode'+str(zmode)+'_nmem'+str(nmem)+'.pickle', 'wb') as file3:\n",
    "    pickle.dump(std_hid26, file3)\n"
   ]
  },
  {
   "cell_type": "code",
   "execution_count": null,
   "metadata": {},
   "outputs": [],
   "source": [
    "hid26_relu = np.maximum(hid26, 0)"
   ]
  },
  {
   "cell_type": "code",
   "execution_count": null,
   "metadata": {},
   "outputs": [],
   "source": [
    "hid26_relu.shape"
   ]
  },
  {
   "cell_type": "code",
   "execution_count": null,
   "metadata": {},
   "outputs": [],
   "source": [
    "mean_hid26_relu = np.mean(hid26_relu, axis=0)\n",
    "std_hid26_relu = np.std(hid26_relu, axis=0)"
   ]
  },
  {
   "cell_type": "code",
   "execution_count": null,
   "metadata": {},
   "outputs": [],
   "source": [
    "# store std_hid26 using pickle\n",
    "with open('/pscratch/sd/l/linyaoly/ERA5/Unet4MJO/1map_MCDO_ERA5_yproj_xfft_4gpus_new/hidden_analysis/std_hid26relu'+vn+str(lat_lim)+'deg_'+mjo_ind+'_ERA5_lead'+str(leadmjo)+'_dailyinput_m'+str(m)+mflg+'_wnx'+str(wnx)+wnxflg+'_zmode'+str(zmode)+'_nmem'+str(nmem)+'.pickle', 'wb') as file3:\n",
    "    pickle.dump(std_hid26_relu, file3)\n"
   ]
  },
  {
   "cell_type": "code",
   "execution_count": null,
   "metadata": {},
   "outputs": [],
   "source": [
    "mean_hid26.shape"
   ]
  },
  {
   "cell_type": "code",
   "execution_count": null,
   "metadata": {},
   "outputs": [],
   "source": [
    "x = np.random.normal(loc=0, scale=1, size=(21,180))\n",
    "plt.contourf(x)"
   ]
  },
  {
   "cell_type": "code",
   "execution_count": null,
   "metadata": {},
   "outputs": [],
   "source": [
    "# density of distribution\n",
    "import seaborn as sns\n",
    "sns.kdeplot(x.flatten(), color='b', linewidth=0.1)"
   ]
  },
  {
   "cell_type": "code",
   "execution_count": null,
   "metadata": {},
   "outputs": [],
   "source": [
    "order = [175, 143, 189, 166, 167, 140, 182, 191, 180, 168, 183, 171, 163,\n",
    "       147, 164, 185, 155, 129, 151, 190, 181, 177, 133, 134, 131, 178,\n",
    "       135, 145, 153, 165, 160, 128, 158, 130, 169, 188, 132, 161, 172,\n",
    "       152, 186, 187, 170, 142, 154, 174, 149, 144, 137, 162, 148, 157,\n",
    "       136, 138, 156, 179, 184, 173, 176,  85,  36, 139, 146,  17,  21,\n",
    "       150,  53,  32,  42, 107,  49, 159, 123,  44, 141, 121,  80,  15,\n",
    "        99, 105]"
   ]
  },
  {
   "cell_type": "code",
   "execution_count": null,
   "metadata": {},
   "outputs": [],
   "source": [
    "# visualize the maps of the top 80 important channels\n",
    "# Create the figure with a grid of subplots\n",
    "fig, axs = plt.subplots(6, 5, figsize=(40, 25), constrained_layout=True)\n",
    "plt.rcParams.update({'font.size': 10})\n",
    "# Plot each subplot\n",
    "for i, ax in enumerate(axs.flat):\n",
    "    data = np.squeeze(mean_hid26[order[i+60], :, :])\n",
    "    # relu\n",
    "    # data = np.log10(np.maximum(data, 0)+1e-8)\n",
    "    data = np.maximum(data, 0)\n",
    "    im = ax.contourf(np.arange(0,360,2), np.arange(20,-22,-2), data)\n",
    "    plt.colorbar(im, ax=ax)\n",
    "    ax.set_title('channel: '+str(order[i+60])) \n",
    "\n",
    "plt.show()"
   ]
  },
  {
   "cell_type": "code",
   "execution_count": null,
   "metadata": {},
   "outputs": [],
   "source": [
    "# visualize the maps of the top 80 important channels\n",
    "# Create the figure with a grid of subplots\n",
    "fig, axs = plt.subplots(6, 5, figsize=(40, 25), constrained_layout=True)\n",
    "plt.rcParams.update({'font.size': 10})\n",
    "# Plot each subplot\n",
    "for i, ax in enumerate(axs.flat):\n",
    "    data = np.squeeze(std_hid26[order[i+30], :, :])\n",
    "    # relu\n",
    "    # data = np.log10(np.maximum(data, 0)+1e-8)\n",
    "    data = np.maximum(data, 0)\n",
    "    im = ax.contourf(np.arange(0,360,2), np.arange(20,-22,-2), data)\n",
    "    plt.colorbar(im, ax=ax)\n",
    "    # ax.set_title('channel: '+str(order[i+60])) \n",
    "\n",
    "plt.show()"
   ]
  },
  {
   "cell_type": "code",
   "execution_count": null,
   "metadata": {},
   "outputs": [],
   "source": [
    "# visualize the maps of the top 80 important channels\n",
    "# Create the figure with a grid of subplots\n",
    "fig, axs = plt.subplots(6, 5, figsize=(40, 25), constrained_layout=True)\n",
    "plt.rcParams.update({'font.size': 10})\n",
    "# Plot each subplot\n",
    "for i, ax in enumerate(axs.flat):\n",
    "    data = np.squeeze(std_hid26_relu[order[i], :, :])\n",
    "    # relu\n",
    "    # data = np.log10(np.maximum(data, 0)+1e-8)\n",
    "    # data = np.maximum(data, 0)\n",
    "    im = ax.contourf(np.arange(0,360,2), np.arange(20,-22,-2), data)\n",
    "    plt.colorbar(im, ax=ax)\n",
    "    # ax.set_title('channel: '+str(order[i+60])) \n",
    "\n",
    "plt.show()"
   ]
  },
  {
   "cell_type": "code",
   "execution_count": null,
   "metadata": {},
   "outputs": [],
   "source": [
    "# visualize the maps of the top 80 important channels\n",
    "# Create the figure with a grid of subplots\n",
    "fig, axs = plt.subplots(6, 5, figsize=(40, 25), constrained_layout=True)\n",
    "plt.rcParams.update({'font.size': 10})\n",
    "# Plot each subplot\n",
    "for i, ax in enumerate(axs.flat):\n",
    "    data = np.squeeze(std_hid26_relu[i, :, :])\n",
    "    # relu\n",
    "    # data = np.log10(np.maximum(data, 0)+1e-8)\n",
    "    # data = np.maximum(data, 0)\n",
    "    im = ax.contourf(np.arange(0,360,2), np.arange(20,-22,-2), data)\n",
    "    plt.colorbar(im, ax=ax)\n",
    "    # ax.set_title('channel: '+str(order[i+60])) \n",
    "\n",
    "plt.show()"
   ]
  },
  {
   "cell_type": "code",
   "execution_count": null,
   "metadata": {},
   "outputs": [],
   "source": [
    "tstep = 0\n",
    "\n",
    "x6 = np.concatenate([np.asarray(outfields['hidden5'])[tstep, tstep, :, :, :].squeeze(), np.asarray(outfields['hidden1'])[tstep, tstep, :, :, :].squeeze()], axis=0)\n",
    "\n",
    "x6.shape "
   ]
  },
  {
   "cell_type": "code",
   "execution_count": null,
   "metadata": {},
   "outputs": [],
   "source": [
    "# Create the figure with a grid of subplots\n",
    "fig, axs = plt.subplots(6, 5, figsize=(40, 25), constrained_layout=True)\n",
    "plt.rcParams.update({'font.size': 10})\n",
    "# Plot each subplot\n",
    "for i, ax in enumerate(axs.flat):\n",
    "    data = np.squeeze(x6[order[i], :, :])\n",
    "    # relu\n",
    "    data = np.log10(np.maximum(data, 0)+1e-8)\n",
    "    im = ax.contourf(np.arange(0,360,2), np.arange(20,-22,-2), data)\n",
    "    plt.colorbar(im, ax=ax)\n",
    "    ax.set_title('channel: '+str(order[i])) \n",
    "\n",
    "plt.show()\n",
    "\n",
    "# Create the figure with a grid of subplots\n",
    "fig, axs = plt.subplots(6, 5, figsize=(40, 25), constrained_layout=True)\n",
    "plt.rcParams.update({'font.size': 10})\n",
    "# Plot each subplot\n",
    "for i, ax in enumerate(axs.flat):\n",
    "    data = np.squeeze(x6[order[i+30], :, :])\n",
    "    # relu\n",
    "    data = np.log10(np.maximum(data, 0)+1e-8)\n",
    "    im = ax.contourf(np.arange(0,360,2), np.arange(20,-22,-2), data)\n",
    "    plt.colorbar(im, ax=ax)\n",
    "    ax.set_title('channel: '+str(order[i+30])) \n",
    "\n",
    "plt.show()\n",
    "\n",
    "# Create the figure with a grid of subplots\n",
    "fig, axs = plt.subplots(6, 5, figsize=(40, 25), constrained_layout=True)\n",
    "plt.rcParams.update({'font.size': 10})\n",
    "# Plot each subplot\n",
    "for i, ax in enumerate(axs.flat):\n",
    "    data = np.squeeze(x6[order[i+60], :, :])\n",
    "    # relu\n",
    "    data = np.log10(np.maximum(data, 0)+1e-8)\n",
    "    im = ax.contourf(np.arange(0,360,2), np.arange(20,-22,-2), data)\n",
    "    plt.colorbar(im, ax=ax)\n",
    "    ax.set_title('channel: '+str(order[i+60])) \n",
    "\n",
    "plt.show()"
   ]
  },
  {
   "cell_type": "code",
   "execution_count": null,
   "metadata": {},
   "outputs": [],
   "source": [
    "data = x6[order[:30],:,:]\n",
    "data.shape"
   ]
  },
  {
   "cell_type": "code",
   "execution_count": null,
   "metadata": {},
   "outputs": [],
   "source": [
    "data_fft = np.fft.fft(data, axis=-1)\n",
    "\n",
    "freq = np.fft.fftfreq(data.shape[-1], d=2) * 360\n",
    "\n",
    "power = np.abs(data_fft[:,:,:])**2\n",
    "\n",
    "norm_power = power / np.sum(power, axis=-1, keepdims=True)\n",
    "\n",
    "plt.plot(freq[:30], np.mean(norm_power[:,:,:30], axis=1).T)"
   ]
  },
  {
   "cell_type": "code",
   "execution_count": null,
   "metadata": {},
   "outputs": [],
   "source": [
    "data_fft[0,0,:].mean()"
   ]
  },
  {
   "cell_type": "code",
   "execution_count": null,
   "metadata": {},
   "outputs": [],
   "source": [
    "data_fft[0,0,0]"
   ]
  },
  {
   "cell_type": "code",
   "execution_count": null,
   "metadata": {},
   "outputs": [],
   "source": [
    "# inverse of fft\n",
    "data_recon = np.fft.irfft(data_fft[0,0,:], n=180)\n",
    "np.mean(data_recon)"
   ]
  },
  {
   "cell_type": "code",
   "execution_count": null,
   "metadata": {},
   "outputs": [],
   "source": []
  },
  {
   "cell_type": "code",
   "execution_count": null,
   "metadata": {},
   "outputs": [],
   "source": [
    "plt.plot(np.abs(data_fft[0,0,:30]))"
   ]
  },
  {
   "cell_type": "code",
   "execution_count": null,
   "metadata": {},
   "outputs": [],
   "source": []
  }
 ],
 "metadata": {
  "kernelspec": {
   "display_name": "eofenv",
   "language": "python",
   "name": "python3"
  },
  "language_info": {
   "codemirror_mode": {
    "name": "ipython",
    "version": 3
   },
   "file_extension": ".py",
   "mimetype": "text/x-python",
   "name": "python",
   "nbconvert_exporter": "python",
   "pygments_lexer": "ipython3",
   "version": "3.11.7"
  }
 },
 "nbformat": 4,
 "nbformat_minor": 2
}
